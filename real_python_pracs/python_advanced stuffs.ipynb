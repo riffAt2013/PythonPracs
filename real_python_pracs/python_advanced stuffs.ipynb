{
 "cells": [
  {
   "cell_type": "markdown",
   "metadata": {},
   "source": [
    "### Evaluation of Non-Boolean Values in Boolean Context"
   ]
  },
  {
   "cell_type": "code",
   "execution_count": 1,
   "metadata": {},
   "outputs": [
    {
     "name": "stdout",
     "output_type": "stream",
     "text": [
      "False False False\n",
      "True True True\n",
      "False False False\n",
      "False False\n",
      "False\n"
     ]
    }
   ],
   "source": [
    "# A numerically \"zero\" value is false always\n",
    "# vice-versa for non-zero\n",
    "\n",
    "# 0 in all cases are false, numeric\n",
    "print(bool(0), bool(0.0), bool(0.0+0j))\n",
    "print(bool(-3), bool(3.14159), bool(1.0+1j))\n",
    "\n",
    "# for string empty is false\n",
    "print(bool(''), bool(\"\"), bool(\"\"\"\"\"\"))\n",
    "\n",
    "\n",
    "# the container can also be used in a boolean context\n",
    "# empty is false, vice-versa\n",
    "print( bool([]), bool({}))\n",
    "\n",
    "# None is always false\n",
    "print(bool(None))\n"
   ]
  },
  {
   "cell_type": "markdown",
   "metadata": {},
   "source": [
    "### Chained Comaparisons"
   ]
  },
  {
   "cell_type": "code",
   "execution_count": 3,
   "metadata": {},
   "outputs": [
    {
     "name": "stdout",
     "output_type": "stream",
     "text": [
      "False\n",
      "False\n"
     ]
    }
   ],
   "source": [
    "x = 2\n",
    "y = 3\n",
    "z = 1\n",
    "\n",
    "print(x < y <= z)\n",
    "print(x < y and y <= z)"
   ]
  },
  {
   "cell_type": "markdown",
   "metadata": {},
   "source": [
    "### Bitwise Operators"
   ]
  },
  {
   "cell_type": "code",
   "execution_count": 6,
   "metadata": {},
   "outputs": [
    {
     "name": "stdout",
     "output_type": "stream",
     "text": [
      "bitwise and -> 0b1000\n",
      "bitwise or -> 0b1110\n",
      "bitwise XOR -> 0b0110\n",
      "right shift -> 0b0011\n",
      "left shift -> 0b1100\n"
     ]
    }
   ],
   "source": [
    "print('bitwise and -> 0b{:04b}'.format(0b1100 & 0b1010))\n",
    "\n",
    "print('bitwise or -> 0b{:04b}'.format(0b1100 | 0b1010))\n",
    "\n",
    "print('bitwise XOR -> 0b{:04b}'.format(0b1100 ^ 0b1010))\n",
    "\n",
    "print('right shift -> 0b{:04b}'.format(0b1100 >> 2))\n",
    "\n",
    "print('left shift -> 0b{:04b}'.format(0b0011 << 2))"
   ]
  },
  {
   "cell_type": "markdown",
   "metadata": {},
   "source": [
    "### Identity Operators\n",
    "\n",
    "Python provides two operators, is and is not, that determine whether the given operands have the same identity—that is, refer to the same object. This is not the same thing as equality, which means the two operands refer to objects that contain the same data but are not necessarily the same object.\n",
    "\n",
    "Here is an example of two object that are equal but not identical:"
   ]
  },
  {
   "cell_type": "code",
   "execution_count": 8,
   "metadata": {},
   "outputs": [
    {
     "name": "stdout",
     "output_type": "stream",
     "text": [
      "1001 1001\n",
      "True\n",
      "False\n",
      "79101104\n",
      "79101040\n"
     ]
    }
   ],
   "source": [
    "x = 1001\n",
    "y = 1000 + 1\n",
    "print(x, y)\n",
    "\n",
    "# equal value\n",
    "print(x == y)\n",
    "\n",
    "# unequal object, ie: dont point at the same object\n",
    "print(x is y)\n",
    "\n",
    "# how to check their ID?  use id()\n",
    "print(id(x))\n",
    "print(id(y))"
   ]
  }
 ],
 "metadata": {
  "kernelspec": {
   "display_name": "Python 3",
   "language": "python",
   "name": "python3"
  },
  "language_info": {
   "codemirror_mode": {
    "name": "ipython",
    "version": 3
   },
   "file_extension": ".py",
   "mimetype": "text/x-python",
   "name": "python",
   "nbconvert_exporter": "python",
   "pygments_lexer": "ipython3",
   "version": "3.4.3"
  }
 },
 "nbformat": 4,
 "nbformat_minor": 2
}
