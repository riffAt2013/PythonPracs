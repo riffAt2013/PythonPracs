{
  "nbformat": 4,
  "nbformat_minor": 0,
  "metadata": {
    "kernelspec": {
      "display_name": "Python 3",
      "language": "python",
      "name": "python3"
    },
    "language_info": {
      "codemirror_mode": {
        "name": "ipython",
        "version": 3
      },
      "file_extension": ".py",
      "mimetype": "text/x-python",
      "name": "python",
      "nbconvert_exporter": "python",
      "pygments_lexer": "ipython3",
      "version": "3.6.2"
    },
    "colab": {
      "name": "nlp 3 - lemmatization",
      "provenance": [],
      "collapsed_sections": []
    }
  },
  "cells": [
    {
      "cell_type": "markdown",
      "metadata": {
        "id": "lBZt9j6aSU6T",
        "colab_type": "text"
      },
      "source": [
        "# Lemmatization\n",
        "In contrast to stemming, lemmatization looks beyond word reduction based algorithms, and considers a language's full vocabulary to apply a *morphological analysis* to words. The lemma of 'was' is 'be' and the lemma of 'mice' is 'mouse'. Further, the lemma of 'meeting' might be 'meet' or 'meeting' depending on its use in a sentence. It's far more advanced"
      ]
    },
    {
      "cell_type": "code",
      "metadata": {
        "id": "r9astZMTSU6V",
        "colab_type": "code",
        "colab": {}
      },
      "source": [
        "# Perform standard imports:\n",
        "import spacy\n",
        "nlp = spacy.load('en_core_web_sm')"
      ],
      "execution_count": 0,
      "outputs": []
    },
    {
      "cell_type": "code",
      "metadata": {
        "id": "k7mxng7bSU6c",
        "colab_type": "code",
        "outputId": "7922314d-a44b-4fd6-ed4d-18d1f660a8ea",
        "colab": {
          "base_uri": "https://localhost:8080/",
          "height": 323
        }
      },
      "source": [
        "doc1 = nlp(u\"I am a runner running in a race because I love to run since I ran today\")\n",
        "\n",
        "\n",
        "# notice the justification strategy. we had to stringify it for justification\n",
        "# since token object support no f-string formatting\n",
        "for token in doc1:\n",
        "    print(f\"{str(token):15} {token.lemma_}\")"
      ],
      "execution_count": 0,
      "outputs": [
        {
          "output_type": "stream",
          "text": [
            "I               -PRON-\n",
            "am              be\n",
            "a               a\n",
            "runner          runner\n",
            "running         run\n",
            "in              in\n",
            "a               a\n",
            "race            race\n",
            "because         because\n",
            "I               -PRON-\n",
            "love            love\n",
            "to              to\n",
            "run             run\n",
            "since           since\n",
            "I               -PRON-\n",
            "ran             run\n",
            "today           today\n"
          ],
          "name": "stdout"
        }
      ]
    },
    {
      "cell_type": "markdown",
      "metadata": {
        "id": "Dx3Ji0vwSU6m",
        "colab_type": "text"
      },
      "source": [
        "### Function to display lemmas\n",
        "Since the display above is staggared and hard to read, let's write a function that displays the information we want more neatly."
      ]
    },
    {
      "cell_type": "code",
      "metadata": {
        "id": "kozJNqe_SU6o",
        "colab_type": "code",
        "colab": {}
      },
      "source": [
        "def show_lemma(text):\n",
        "  doc = nlp(text)\n",
        "  for t in doc:\n",
        "    print(f\"{str(t):{15}} {str(t.dep_):{10}} {t.lemma_}\")"
      ],
      "execution_count": 0,
      "outputs": []
    },
    {
      "cell_type": "markdown",
      "metadata": {
        "id": "X7F94r7DSU6t",
        "colab_type": "text"
      },
      "source": [
        "Here we're using an **f-string** to format the printed text by setting minimum field widths and adding a left-align to the lemma hash value."
      ]
    },
    {
      "cell_type": "code",
      "metadata": {
        "id": "mBvHCpVbSU6v",
        "colab_type": "code",
        "outputId": "a0acb57f-ee35-452e-8a65-d94519b7b5ea",
        "colab": {
          "base_uri": "https://localhost:8080/",
          "height": 125
        }
      },
      "source": [
        "doc2 = u\"I saw eighteen mice today!\"\n",
        "show_lemma(doc2)"
      ],
      "execution_count": 22,
      "outputs": [
        {
          "output_type": "stream",
          "text": [
            "I               nsubj    -PRON-\n",
            "saw             ROOT     see\n",
            "eighteen        nummod   eighteen\n",
            "mice            dobj     mouse\n",
            "today           npadvmod today\n",
            "!               punct    !\n"
          ],
          "name": "stdout"
        }
      ]
    },
    {
      "cell_type": "markdown",
      "metadata": {
        "id": "2P15hVuVSU60",
        "colab_type": "text"
      },
      "source": [
        "<font color=green>Notice that the lemma of `saw` is `see`, `mice` is the plural form of `mouse`, and yet `eighteen` is its own number, *not* an expanded form of `eight`.</font>"
      ]
    },
    {
      "cell_type": "code",
      "metadata": {
        "id": "LiQbP1LhSU62",
        "colab_type": "code",
        "outputId": "5a9a8db4-2af3-4681-a4f3-7650fadc4fb5",
        "colab": {
          "base_uri": "https://localhost:8080/",
          "height": 179
        }
      },
      "source": [
        "doc3 =\"I am meeting him tomorrow at the meeting.\"\n",
        "\n",
        "show_lemma(doc3)"
      ],
      "execution_count": 24,
      "outputs": [
        {
          "output_type": "stream",
          "text": [
            "I               nsubj      -PRON-\n",
            "am              aux        be\n",
            "meeting         ROOT       meet\n",
            "him             dobj       -PRON-\n",
            "tomorrow        npadvmod   tomorrow\n",
            "at              prep       at\n",
            "the             det        the\n",
            "meeting         pobj       meeting\n",
            ".               punct      .\n"
          ],
          "name": "stdout"
        }
      ]
    },
    {
      "cell_type": "markdown",
      "metadata": {
        "id": "sR2GujMkSU69",
        "colab_type": "text"
      },
      "source": [
        "Here the lemma of `meeting` is determined by its Part of Speech tag."
      ]
    },
    {
      "cell_type": "code",
      "metadata": {
        "id": "X78vBkrPSU6-",
        "colab_type": "code",
        "outputId": "3b7dce25-cc3c-47ce-e6ce-ff113e2c9c8e",
        "colab": {
          "base_uri": "https://localhost:8080/",
          "height": 107
        }
      },
      "source": [
        "doc4 = \"That's an enormous automobile\"\n",
        "\n",
        "show_lemma(doc4)"
      ],
      "execution_count": 25,
      "outputs": [
        {
          "output_type": "stream",
          "text": [
            "That            nsubj      that\n",
            "'s              ROOT       be\n",
            "an              det        an\n",
            "enormous        amod       enormous\n",
            "automobile      attr       automobile\n"
          ],
          "name": "stdout"
        }
      ]
    },
    {
      "cell_type": "markdown",
      "metadata": {
        "id": "2cQ74T_lSU7D",
        "colab_type": "text"
      },
      "source": [
        "Note that lemmatization does *not* reduce words to their most basic synonym - that is, `enormous` doesn't become `big` and `automobile` doesn't become `car`.\n"
      ]
    },
    {
      "cell_type": "markdown",
      "metadata": {
        "id": "6UiFDsFWSU7E",
        "colab_type": "text"
      },
      "source": [
        "We should point out that although lemmatization looks at surrounding text to determine a given word's part of speech, it does not categorize phrases. In an upcoming lecture we'll investigate *word vectors and similarity*.\n",
        "\n"
      ]
    },
    {
      "cell_type": "markdown",
      "metadata": {
        "id": "pZK1y_vOiUDM",
        "colab_type": "text"
      },
      "source": [
        "### We can see that lemmatization is a far better alternative to stemming since it is far more correct for getting the root words from morphologically affixed words. We will use this more I guess. "
      ]
    },
    {
      "cell_type": "code",
      "metadata": {
        "id": "gyZUwC46imyN",
        "colab_type": "code",
        "colab": {}
      },
      "source": [
        ""
      ],
      "execution_count": 0,
      "outputs": []
    }
  ]
}