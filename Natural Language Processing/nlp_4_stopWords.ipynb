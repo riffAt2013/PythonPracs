{
  "nbformat": 4,
  "nbformat_minor": 0,
  "metadata": {
    "kernelspec": {
      "display_name": "Python 3",
      "language": "python",
      "name": "python3"
    },
    "language_info": {
      "codemirror_mode": {
        "name": "ipython",
        "version": 3
      },
      "file_extension": ".py",
      "mimetype": "text/x-python",
      "name": "python",
      "nbconvert_exporter": "python",
      "pygments_lexer": "ipython3",
      "version": "3.6.7"
    },
    "colab": {
      "name": "nlp_4_stopWords",
      "provenance": [],
      "collapsed_sections": []
    }
  },
  "cells": [
    {
      "cell_type": "markdown",
      "metadata": {
        "id": "RMnUUtC0YwXB",
        "colab_type": "text"
      },
      "source": [
        "# Stop Words\n",
        "Words like \"a\" and \"the\" appear so frequently that they don't require tagging as thoroughly as nouns, verbs and modifiers. We call these *stop words*, and they can be filtered from the text to be processed. spaCy holds a built-in list of some 305 English stop words."
      ]
    },
    {
      "cell_type": "code",
      "metadata": {
        "id": "0veorwpGYwXC",
        "colab_type": "code",
        "colab": {}
      },
      "source": [
        "# Perform standard imports:\n",
        "import spacy\n",
        "nlp = spacy.load('en_core_web_sm')"
      ],
      "execution_count": 0,
      "outputs": []
    },
    {
      "cell_type": "code",
      "metadata": {
        "id": "YoTzOYYzYwXH",
        "colab_type": "code",
        "colab": {
          "base_uri": "https://localhost:8080/",
          "height": 73
        },
        "outputId": "0f366f8e-7294-4b0b-9220-96f8ac1747bd"
      },
      "source": [
        "# Print the set of spaCy's default stop words (remember that sets are unordered):\n",
        "print(nlp.Defaults.stop_words)\n",
        "# or alternatively\n",
        "print(spacy.lang.en.stop_words.STOP_WORDS)"
      ],
      "execution_count": 2,
      "outputs": [
        {
          "output_type": "stream",
          "text": [
            "{'since', 'yours', 'into', 'most', 'then', 'cannot', 'being', 'than', 'itself', 'rather', 'twenty', 'few', 'were', 'up', 'yourselves', 'hereafter', 'his', 'much', 'serious', 'nothing', 'thereupon', 'top', 'almost', 'of', \"'ll\", 'formerly', 'perhaps', 'thereafter', 'it', 'nobody', 'really', 'somewhere', 'toward', 'two', 'them', 'across', 'themselves', 'often', 'only', 'although', 'made', 'quite', 'via', 'we', 'its', 'the', 'give', 'three', 'to', 'between', 'never', 'from', 'what', 'still', 'get', 'not', 'will', 'something', 'because', 'am', 'among', 'either', 'here', 'might', 'beside', 'nowhere', 'around', 'they', 'whenever', 'sixty', 'well', 'about', 'whose', 'i', 'off', 'see', 'become', 'thus', \"'d\", 'while', '‘d', 'him', 'or', 'would', 'that', 'is', 'someone', 'anywhere', \"'s\", 'first', 'once', 'towards', 'call', 'go', 'nine', 'due', 'sometimes', 'this', 'four', 'in', 'ten', 'many', 'same', 'least', 'noone', 'seem', 'how', 'nor', 'side', 'another', 'are', 'six', 'so', 'until', 'can', 'becoming', 'always', 'moreover', 'latterly', 'through', 'herein', '’s', 'five', 'done', 'has', 'alone', 'several', 'could', 'whom', 'out', 'anyway', 'every', 'seems', 'except', 'whereafter', 'hereupon', 'did', 'any', 'and', 'each', 'there', 'therefore', \"'ve\", 'beyond', 'no', '’ll', 'a', '‘ll', '’ve', 'sometime', 'per', 'over', 'without', 'along', 'all', 'used', '‘re', 'twelve', 'whether', 'whence', 'at', 'whoever', 'everything', 'should', 'very', 'neither', '‘s', 'above', 'must', 'after', 'hence', 'mostly', 'afterwards', 'now', 'onto', 'against', 'us', 'with', 'however', 'move', 'fifty', 'beforehand', 'empty', 'your', 'when', 'put', 'whereupon', 'whither', 'some', 'seeming', 'already', 'our', 'himself', 're', 'indeed', 'anything', 'even', 'just', 'please', 'therein', 'besides', 'ever', 'during', 'full', 'whatever', 'these', 'own', 'do', 'below', 'enough', 'former', 'was', 'where', 'you', 'have', 'else', 'such', 'their', 'if', 'make', 'doing', 'forty', 'one', 'an', 'hers', 'be', 'before', 'third', 'behind', 'on', 'further', 'regarding', '’re', 'for', 'front', 'had', 'hundred', 'too', 'both', 'together', 'elsewhere', 'take', 'who', 'again', 'ours', 'those', '‘m', 'unless', 'keep', 'wherever', 'namely', 'yourself', 'under', 'various', 'upon', 'more', 'somehow', 'myself', '’d', \"n't\", 'also', \"'m\", 'latter', 'yet', \"'re\", '’m', 'whereby', 'been', 'whole', 'eight', 'wherein', 'became', 'using', 'she', 'fifteen', 'does', 'my', 'as', 'other', 'last', 'others', 'seemed', 'becomes', 'name', 'back', 'bottom', 'thence', 'anyone', 'thru', 'thereby', 'meanwhile', 'amongst', 'may', 'within', 'n‘t', 'everyone', 'by', 'her', 'ca', 'none', 'show', 'though', 'hereby', 'next', 'mine', 'say', 'n’t', 'why', 'otherwise', 'ourselves', 'part', 'throughout', 'eleven', 'me', 'amount', 'anyhow', 'herself', 'less', 'everywhere', 'he', 'nevertheless', '‘ve', 'whereas', 'down', 'which', 'but'}\n",
            "{'since', 'yours', 'into', 'most', 'then', 'cannot', 'being', 'than', 'itself', 'rather', 'twenty', 'few', 'were', 'up', 'yourselves', 'hereafter', 'his', 'much', 'serious', 'nothing', 'thereupon', 'top', 'almost', 'of', \"'ll\", 'formerly', 'perhaps', 'thereafter', 'it', 'nobody', 'really', 'somewhere', 'toward', 'two', 'them', 'across', 'themselves', 'often', 'only', 'although', 'made', 'quite', 'via', 'we', 'its', 'the', 'give', 'three', 'to', 'between', 'never', 'from', 'what', 'still', 'get', 'not', 'will', 'something', 'because', 'am', 'among', 'either', 'here', 'might', 'beside', 'nowhere', 'around', 'they', 'whenever', 'sixty', 'well', 'about', 'whose', 'i', 'off', 'see', 'become', 'thus', \"'d\", 'while', '‘d', 'him', 'or', 'would', 'that', 'is', 'someone', 'anywhere', \"'s\", 'first', 'once', 'towards', 'call', 'go', 'nine', 'due', 'sometimes', 'this', 'four', 'in', 'ten', 'many', 'same', 'least', 'noone', 'seem', 'how', 'nor', 'side', 'another', 'are', 'six', 'so', 'until', 'can', 'becoming', 'always', 'moreover', 'latterly', 'through', 'herein', '’s', 'five', 'done', 'has', 'alone', 'several', 'could', 'whom', 'out', 'anyway', 'every', 'seems', 'except', 'whereafter', 'hereupon', 'did', 'any', 'and', 'each', 'there', 'therefore', \"'ve\", 'beyond', 'no', '’ll', 'a', '‘ll', '’ve', 'sometime', 'per', 'over', 'without', 'along', 'all', 'used', '‘re', 'twelve', 'whether', 'whence', 'at', 'whoever', 'everything', 'should', 'very', 'neither', '‘s', 'above', 'must', 'after', 'hence', 'mostly', 'afterwards', 'now', 'onto', 'against', 'us', 'with', 'however', 'move', 'fifty', 'beforehand', 'empty', 'your', 'when', 'put', 'whereupon', 'whither', 'some', 'seeming', 'already', 'our', 'himself', 're', 'indeed', 'anything', 'even', 'just', 'please', 'therein', 'besides', 'ever', 'during', 'full', 'whatever', 'these', 'own', 'do', 'below', 'enough', 'former', 'was', 'where', 'you', 'have', 'else', 'such', 'their', 'if', 'make', 'doing', 'forty', 'one', 'an', 'hers', 'be', 'before', 'third', 'behind', 'on', 'further', 'regarding', '’re', 'for', 'front', 'had', 'hundred', 'too', 'both', 'together', 'elsewhere', 'take', 'who', 'again', 'ours', 'those', '‘m', 'unless', 'keep', 'wherever', 'namely', 'yourself', 'under', 'various', 'upon', 'more', 'somehow', 'myself', '’d', \"n't\", 'also', \"'m\", 'latter', 'yet', \"'re\", '’m', 'whereby', 'been', 'whole', 'eight', 'wherein', 'became', 'using', 'she', 'fifteen', 'does', 'my', 'as', 'other', 'last', 'others', 'seemed', 'becomes', 'name', 'back', 'bottom', 'thence', 'anyone', 'thru', 'thereby', 'meanwhile', 'amongst', 'may', 'within', 'n‘t', 'everyone', 'by', 'her', 'ca', 'none', 'show', 'though', 'hereby', 'next', 'mine', 'say', 'n’t', 'why', 'otherwise', 'ourselves', 'part', 'throughout', 'eleven', 'me', 'amount', 'anyhow', 'herself', 'less', 'everywhere', 'he', 'nevertheless', '‘ve', 'whereas', 'down', 'which', 'but'}\n"
          ],
          "name": "stdout"
        }
      ]
    },
    {
      "cell_type": "code",
      "metadata": {
        "id": "BlmpD2D1YwXM",
        "colab_type": "code",
        "colab": {},
        "outputId": "cca32bcb-3f52-45fc-d1b3-34b8e1fc8b5f"
      },
      "source": [
        "len(nlp.Defaults.stop_words)"
      ],
      "execution_count": 0,
      "outputs": [
        {
          "output_type": "execute_result",
          "data": {
            "text/plain": [
              "305"
            ]
          },
          "metadata": {
            "tags": []
          },
          "execution_count": 3
        }
      ]
    },
    {
      "cell_type": "markdown",
      "metadata": {
        "id": "URMY9Ki0YwXR",
        "colab_type": "text"
      },
      "source": [
        "## To see if a word is a stop word"
      ]
    },
    {
      "cell_type": "code",
      "metadata": {
        "id": "dVkemqEeYwXS",
        "colab_type": "code",
        "colab": {},
        "outputId": "d420f8f4-70be-473a-f72c-e38328fc3ba0"
      },
      "source": [
        "nlp.vocab['myself'].is_stop"
      ],
      "execution_count": 0,
      "outputs": [
        {
          "output_type": "execute_result",
          "data": {
            "text/plain": [
              "True"
            ]
          },
          "metadata": {
            "tags": []
          },
          "execution_count": 4
        }
      ]
    },
    {
      "cell_type": "code",
      "metadata": {
        "id": "CjqyPZU3YwXW",
        "colab_type": "code",
        "colab": {},
        "outputId": "197efa82-ff50-4a6d-be70-d165de57dae4"
      },
      "source": [
        "nlp.vocab['mystery'].is_stop"
      ],
      "execution_count": 0,
      "outputs": [
        {
          "output_type": "execute_result",
          "data": {
            "text/plain": [
              "False"
            ]
          },
          "metadata": {
            "tags": []
          },
          "execution_count": 5
        }
      ]
    },
    {
      "cell_type": "markdown",
      "metadata": {
        "id": "O7sJ7pwaYwXZ",
        "colab_type": "text"
      },
      "source": [
        "## To add a stop word\n",
        "There may be times when you wish to add a stop word to the default set. Perhaps you decide that `'btw'` (common shorthand for \"by the way\") should be considered a stop word."
      ]
    },
    {
      "cell_type": "code",
      "metadata": {
        "id": "NioEmIgkYwXd",
        "colab_type": "code",
        "colab": {}
      },
      "source": [
        "# Add the word to the set of stop words. Use lowercase!\n",
        "nlp.Defaults.stop_words.add('btw')\n",
        "\n",
        "# Set the stop_word tag on the lexeme, it is actually a container that can store word as word type and not word token\n",
        "# hence a lexeme can't have pos tag, lemmas and other stuff \n",
        "nlp.vocab['btw'].is_stop = True"
      ],
      "execution_count": 0,
      "outputs": []
    },
    {
      "cell_type": "code",
      "metadata": {
        "id": "fV8_9AUrYwXg",
        "colab_type": "code",
        "colab": {
          "base_uri": "https://localhost:8080/",
          "height": 35
        },
        "outputId": "b98b144f-c0cb-4660-f158-31c7185d4454"
      },
      "source": [
        "len(nlp.Defaults.stop_words)"
      ],
      "execution_count": 21,
      "outputs": [
        {
          "output_type": "execute_result",
          "data": {
            "text/plain": [
              "327"
            ]
          },
          "metadata": {
            "tags": []
          },
          "execution_count": 21
        }
      ]
    },
    {
      "cell_type": "code",
      "metadata": {
        "id": "JPXnJPK4YwXj",
        "colab_type": "code",
        "colab": {
          "base_uri": "https://localhost:8080/",
          "height": 35
        },
        "outputId": "e6a588a8-a3e9-4408-fc10-aa04838485d4"
      },
      "source": [
        "nlp.vocab['btw'].is_stop"
      ],
      "execution_count": 22,
      "outputs": [
        {
          "output_type": "execute_result",
          "data": {
            "text/plain": [
              "True"
            ]
          },
          "metadata": {
            "tags": []
          },
          "execution_count": 22
        }
      ]
    },
    {
      "cell_type": "markdown",
      "metadata": {
        "id": "zvWQZ18gYwXo",
        "colab_type": "text"
      },
      "source": [
        "When adding stop words, always use lowercase. Lexemes are converted to lowercase before being added to **vocab**"
      ]
    },
    {
      "cell_type": "markdown",
      "metadata": {
        "id": "MKba_BtPYwXp",
        "colab_type": "text"
      },
      "source": [
        "## To remove a stop word\n",
        "Alternatively, you may decide that `'beyond'` should not be considered a stop word."
      ]
    },
    {
      "cell_type": "code",
      "metadata": {
        "id": "xySJeyHOYwXr",
        "colab_type": "code",
        "colab": {}
      },
      "source": [
        "# Remove the word from the set of stop words\n",
        "nlp.Defaults.stop_words.remove('beyond')\n",
        "\n",
        "# Remove the stop_word tag from the lexeme\n",
        "nlp.vocab['beyond'].is_stop = False"
      ],
      "execution_count": 0,
      "outputs": []
    },
    {
      "cell_type": "code",
      "metadata": {
        "id": "BpuhU7uZYwXu",
        "colab_type": "code",
        "colab": {},
        "outputId": "4d8c9a75-3e7f-4423-b5a8-e7713050d215"
      },
      "source": [
        "len(nlp.Defaults.stop_words)"
      ],
      "execution_count": 0,
      "outputs": [
        {
          "output_type": "execute_result",
          "data": {
            "text/plain": [
              "305"
            ]
          },
          "metadata": {
            "tags": []
          },
          "execution_count": 10
        }
      ]
    },
    {
      "cell_type": "code",
      "metadata": {
        "id": "cfEMSKXVYwXz",
        "colab_type": "code",
        "colab": {},
        "outputId": "e29a8af3-1da4-409e-c507-85c2a2155dab"
      },
      "source": [
        "nlp.vocab['beyond'].is_stop"
      ],
      "execution_count": 0,
      "outputs": [
        {
          "output_type": "execute_result",
          "data": {
            "text/plain": [
              "False"
            ]
          },
          "metadata": {
            "tags": []
          },
          "execution_count": 11
        }
      ]
    }
  ]
}