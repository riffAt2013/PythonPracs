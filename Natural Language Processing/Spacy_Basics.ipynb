{
  "nbformat": 4,
  "nbformat_minor": 0,
  "metadata": {
    "kernelspec": {
      "display_name": "Python 3",
      "language": "python",
      "name": "python3"
    },
    "language_info": {
      "codemirror_mode": {
        "name": "ipython",
        "version": 3
      },
      "file_extension": ".py",
      "mimetype": "text/x-python",
      "name": "python",
      "nbconvert_exporter": "python",
      "pygments_lexer": "ipython3",
      "version": "3.6.7"
    },
    "colab": {
      "name": "Spacy-Basics.ipynb",
      "provenance": [],
      "collapsed_sections": []
    }
  },
  "cells": [
    {
      "cell_type": "code",
      "metadata": {
        "id": "Ja-e_tLJxlgh",
        "colab_type": "code",
        "colab": {}
      },
      "source": [
        "# installing spacy, spacy is added automatically to PATH, hence we can use cmd to access and then download\n",
        "# the english \"vocabulary\" or the english model, a small one\n",
        "!pip install spacy\n",
        "!python -m spacy download en"
      ],
      "execution_count": 0,
      "outputs": []
    },
    {
      "cell_type": "code",
      "metadata": {
        "id": "lzYO1_vxxe1F",
        "colab_type": "code",
        "colab": {
          "base_uri": "https://localhost:8080/",
          "height": 217
        },
        "outputId": "92735b61-f47b-4bd6-bfc3-2ddad0bc1e19"
      },
      "source": [
        "# importing spacy and load the english model, basically the entire vocabulary.\n",
        "# the _sm stands for small, about 50000 words, enough for basic stuffs\n",
        "import spacy\n",
        "nlp = spacy.load('en_core_web_sm')\n",
        "\n",
        "# Create a Doc object, this is going to get the processed text information via a pipeline\n",
        "# by the nlp(). notice the u'', it is processing a unicode string and not a raw string\n",
        "doc = nlp(u'Tesla is looking at buying U.S. startup for $6 million')\n",
        "\n",
        "# Print each token separately, token as in elements of the text\n",
        "for token in doc:\n",
        "    print(token.text, token.pos_, token.dep_)"
      ],
      "execution_count": 3,
      "outputs": [
        {
          "output_type": "stream",
          "text": [
            "Tesla PROPN nsubj\n",
            "is VERB aux\n",
            "looking VERB ROOT\n",
            "at ADP prep\n",
            "buying VERB pcomp\n",
            "U.S. PROPN compound\n",
            "startup NOUN dobj\n",
            "for ADP prep\n",
            "$ SYM quantmod\n",
            "6 NUM compound\n",
            "million NUM pobj\n"
          ],
          "name": "stdout"
        }
      ]
    },
    {
      "cell_type": "markdown",
      "metadata": {
        "id": "Q2YGmfwZxe1L",
        "colab_type": "text"
      },
      "source": [
        "This doesn't look very user-friendly, but right away we see some interesting things happen:\n",
        "1. Tesla is recognized to be a Proper Noun, not just a word at the start of a sentence\n",
        "2. U.S. is kept together as one entity (we call this a 'token')\n",
        "\n",
        "As we dive deeper into spaCy we'll see what each of these abbreviations mean and how they're derived. We'll also see how spaCy can interpret the last three tokens combined `$6 million` as referring to ***money***."
      ]
    },
    {
      "cell_type": "markdown",
      "metadata": {
        "id": "8WQTvWYvxe1N",
        "colab_type": "text"
      },
      "source": [
        "___\n",
        "# Pipeline\n",
        "When we run `nlp`, our text enters a *processing pipeline* that first breaks down the text and then performs a series of operations to tag, parse and describe the data."
      ]
    },
    {
      "cell_type": "markdown",
      "metadata": {
        "id": "iPtVK27Oxe1O",
        "colab_type": "text"
      },
      "source": [
        "<img src=\"https://spacy.io/pipeline-7a14d4edd18f3edfee8f34393bff2992.svg\" width=\"600\">"
      ]
    },
    {
      "cell_type": "markdown",
      "metadata": {
        "id": "ZA1e2bN5xe1P",
        "colab_type": "text"
      },
      "source": [
        "We can check to see what components currently live in the pipeline. In later sections we'll learn how to disable components and add new ones as needed."
      ]
    },
    {
      "cell_type": "code",
      "metadata": {
        "id": "oNtSIT4qxe1Q",
        "colab_type": "code",
        "colab": {
          "base_uri": "https://localhost:8080/",
          "height": 72
        },
        "outputId": "e98db20f-b2ea-4f9e-8c6f-500223ee0278"
      },
      "source": [
        "nlp.pipeline"
      ],
      "execution_count": 5,
      "outputs": [
        {
          "output_type": "execute_result",
          "data": {
            "text/plain": [
              "[('tagger', <spacy.pipeline.pipes.Tagger at 0x7f2d69d7db38>),\n",
              " ('parser', <spacy.pipeline.pipes.DependencyParser at 0x7f2d64f68288>),\n",
              " ('ner', <spacy.pipeline.pipes.EntityRecognizer at 0x7f2d64f682e8>)]"
            ]
          },
          "metadata": {
            "tags": []
          },
          "execution_count": 5
        }
      ]
    },
    {
      "cell_type": "code",
      "metadata": {
        "id": "n2ZXu7E3xe1T",
        "colab_type": "code",
        "colab": {
          "base_uri": "https://localhost:8080/",
          "height": 35
        },
        "outputId": "6a8b0ba2-f005-4029-96d2-f70edeff4a51"
      },
      "source": [
        "nlp.pipe_names"
      ],
      "execution_count": 4,
      "outputs": [
        {
          "output_type": "execute_result",
          "data": {
            "text/plain": [
              "['tagger', 'parser', 'ner']"
            ]
          },
          "metadata": {
            "tags": []
          },
          "execution_count": 4
        }
      ]
    },
    {
      "cell_type": "markdown",
      "metadata": {
        "id": "tCUMBCgGxe1W",
        "colab_type": "text"
      },
      "source": [
        "___\n",
        "## Tokenization\n",
        "The first step in processing text is to split up all the component parts (words & punctuation) into \"tokens\". These tokens are annotated inside the Doc object to contain descriptive information. We'll go into much more detail on tokenization in an upcoming lecture. For now, let's look at another example:"
      ]
    },
    {
      "cell_type": "code",
      "metadata": {
        "id": "1DAqF0clxe1W",
        "colab_type": "code",
        "colab": {
          "base_uri": "https://localhost:8080/",
          "height": 181
        },
        "outputId": "292ccef5-81eb-4b75-bfbf-978600b681d0"
      },
      "source": [
        "# tokens being annotated\n",
        "doc2 = nlp(u\"Tesla isn't   looking into startups anymore.\")\n",
        "\n",
        "for token in doc2:\n",
        "    print(token.text, token.pos_, token.dep_)"
      ],
      "execution_count": 7,
      "outputs": [
        {
          "output_type": "stream",
          "text": [
            "Tesla PROPN nsubj\n",
            "is VERB aux\n",
            "n't ADV neg\n",
            "   SPACE \n",
            "looking VERB ROOT\n",
            "into ADP prep\n",
            "startups NOUN pobj\n",
            "anymore ADV advmod\n",
            ". PUNCT punct\n"
          ],
          "name": "stdout"
        }
      ]
    },
    {
      "cell_type": "markdown",
      "metadata": {
        "id": "loycjO6Ixe1Z",
        "colab_type": "text"
      },
      "source": [
        "Notice how `isn't` has been split into two tokens. spaCy recognizes both the root verb `is` and the negation attached to it. Notice also that both the extended whitespace and the period at the end of the sentence are assigned their own tokens.\n",
        "\n",
        "It's important to note that even though `doc2` contains processed information about each token, it also retains the original text:"
      ]
    },
    {
      "cell_type": "code",
      "metadata": {
        "id": "19RF7O3oxe1a",
        "colab_type": "code",
        "colab": {},
        "outputId": "c9e7a350-ab4b-4104-d382-268e155d96c4"
      },
      "source": [
        "doc2"
      ],
      "execution_count": 0,
      "outputs": [
        {
          "output_type": "execute_result",
          "data": {
            "text/plain": [
              "Tesla isn't   looking into startups anymore."
            ]
          },
          "metadata": {
            "tags": []
          },
          "execution_count": 5
        }
      ]
    },
    {
      "cell_type": "code",
      "metadata": {
        "id": "ciZgJWTUxe1d",
        "colab_type": "code",
        "colab": {},
        "outputId": "0dc02ac8-95a6-4d60-cbf3-14f85557a336"
      },
      "source": [
        "# doc object supports indexing, its obvio based on tokoens\n",
        "doc2[0]"
      ],
      "execution_count": 0,
      "outputs": [
        {
          "output_type": "execute_result",
          "data": {
            "text/plain": [
              "Tesla"
            ]
          },
          "metadata": {
            "tags": []
          },
          "execution_count": 6
        }
      ]
    },
    {
      "cell_type": "code",
      "metadata": {
        "id": "W9J7FccFxe1g",
        "colab_type": "code",
        "colab": {
          "base_uri": "https://localhost:8080/",
          "height": 35
        },
        "outputId": "9275fdf6-9bc4-4ac5-d7ca-91265380f9ec"
      },
      "source": [
        "type(doc2[0])"
      ],
      "execution_count": 8,
      "outputs": [
        {
          "output_type": "execute_result",
          "data": {
            "text/plain": [
              "spacy.tokens.token.Token"
            ]
          },
          "metadata": {
            "tags": []
          },
          "execution_count": 8
        }
      ]
    },
    {
      "cell_type": "markdown",
      "metadata": {
        "id": "oNREgylbxe1i",
        "colab_type": "text"
      },
      "source": [
        "___\n",
        "## Part-of-Speech Tagging (POS)\n",
        "The next step after splitting the text up into tokens is to assign parts of speech. In the above example, `Tesla` was recognized to be a ***proper noun***. Here some statistical modeling is required. For example, words that follow \"the\" are typically nouns.\n",
        "\n",
        "For a full list of POS Tags visit https://spacy.io/api/annotation#pos-tagging"
      ]
    },
    {
      "cell_type": "code",
      "metadata": {
        "id": "l_D_zANDxe1j",
        "colab_type": "code",
        "colab": {},
        "outputId": "d1e9e315-d8ab-4f63-ec35-dad4fee1d11f"
      },
      "source": [
        "doc2[0].pos_"
      ],
      "execution_count": 0,
      "outputs": [
        {
          "output_type": "execute_result",
          "data": {
            "text/plain": [
              "'PROPN'"
            ]
          },
          "metadata": {
            "tags": []
          },
          "execution_count": 8
        }
      ]
    },
    {
      "cell_type": "markdown",
      "metadata": {
        "id": "DZvn3483xe1n",
        "colab_type": "text"
      },
      "source": [
        "___\n",
        "## Dependencies\n",
        "We also looked at the syntactic dependencies assigned to each token. `Tesla` is identified as an `nsubj` or the ***nominal subject*** of the sentence.\n",
        "\n",
        "For a full list of Syntactic Dependencies visit https://spacy.io/api/annotation#dependency-parsing\n",
        "<br>A good explanation of typed dependencies can be found [here](https://nlp.stanford.edu/software/dependencies_manual.pdf)"
      ]
    },
    {
      "cell_type": "code",
      "metadata": {
        "id": "vM-RuR8vxe1o",
        "colab_type": "code",
        "colab": {},
        "outputId": "44ff4e75-88fd-49f0-8641-25573bebee48"
      },
      "source": [
        "# everything is annotated within doc object\n",
        "doc2[0].dep_"
      ],
      "execution_count": 0,
      "outputs": [
        {
          "output_type": "execute_result",
          "data": {
            "text/plain": [
              "'nsubj'"
            ]
          },
          "metadata": {
            "tags": []
          },
          "execution_count": 9
        }
      ]
    },
    {
      "cell_type": "markdown",
      "metadata": {
        "id": "iBain6Snxe1r",
        "colab_type": "text"
      },
      "source": [
        "To see the full name of a tag use `spacy.explain(tag)`"
      ]
    },
    {
      "cell_type": "code",
      "metadata": {
        "id": "r_yFfFKmxe1u",
        "colab_type": "code",
        "colab": {},
        "outputId": "10263b4a-9346-4764-bff6-b3bd4de62e21"
      },
      "source": [
        "spacy.explain('PROPN')"
      ],
      "execution_count": 0,
      "outputs": [
        {
          "output_type": "execute_result",
          "data": {
            "text/plain": [
              "'proper noun'"
            ]
          },
          "metadata": {
            "tags": []
          },
          "execution_count": 10
        }
      ]
    },
    {
      "cell_type": "code",
      "metadata": {
        "id": "J2j7Dr-Kxe1w",
        "colab_type": "code",
        "colab": {},
        "outputId": "dc25a48e-ecf0-4279-d241-064867581665"
      },
      "source": [
        "spacy.explain('nsubj')"
      ],
      "execution_count": 0,
      "outputs": [
        {
          "output_type": "execute_result",
          "data": {
            "text/plain": [
              "'nominal subject'"
            ]
          },
          "metadata": {
            "tags": []
          },
          "execution_count": 11
        }
      ]
    },
    {
      "cell_type": "markdown",
      "metadata": {
        "id": "U7EfAv_1xe1z",
        "colab_type": "text"
      },
      "source": [
        "___\n",
        "## Additional Token Attributes\n",
        "We'll see these again in upcoming lectures. For now we just want to illustrate some of the other information that spaCy assigns to tokens:"
      ]
    },
    {
      "cell_type": "markdown",
      "metadata": {
        "id": "rfHZu5FUxe10",
        "colab_type": "text"
      },
      "source": [
        "|Tag|Description|doc2[0].tag|\n",
        "|:------|:------:|:------|\n",
        "|`.text`|The original word text<!-- .element: style=\"text-align:left;\" -->|`Tesla`|\n",
        "|`.lemma_`|The base form of the word|`tesla`|\n",
        "|`.pos_`|The simple part-of-speech tag|`PROPN`/`proper noun`|\n",
        "|`.tag_`|The detailed part-of-speech tag|`NNP`/`noun, proper singular`|\n",
        "|`.shape_`|The word shape – capitalization, punctuation, digits|`Xxxxx`|\n",
        "|`.is_alpha`|Is the token an alpha character?|`True`|\n",
        "|`.is_stop`|Is the token part of a stop list, i.e. the most common words of the language?|`False`|"
      ]
    },
    {
      "cell_type": "code",
      "metadata": {
        "id": "JH7aLlJGxe11",
        "colab_type": "code",
        "colab": {},
        "outputId": "97c45397-0fdc-42f1-a0c7-0c4433720fa3"
      },
      "source": [
        "# Lemmas (the base form of the word):\n",
        "print(doc2[4].text)\n",
        "print(doc2[4].lemma_)"
      ],
      "execution_count": 0,
      "outputs": [
        {
          "output_type": "stream",
          "text": [
            "looking\n",
            "look\n"
          ],
          "name": "stdout"
        }
      ]
    },
    {
      "cell_type": "code",
      "metadata": {
        "id": "B6VYMO86xe13",
        "colab_type": "code",
        "colab": {
          "base_uri": "https://localhost:8080/",
          "height": 72
        },
        "outputId": "b51eb8f4-885f-4451-e853-9965fb8572bd"
      },
      "source": [
        "# Simple Parts-of-Speech & Detailed Tags:\n",
        "print(doc2[4])\n",
        "print(doc2[4].pos_)\n",
        "print(doc2[4].tag_ + ' / ' + spacy.explain(doc2[4].tag_))"
      ],
      "execution_count": 9,
      "outputs": [
        {
          "output_type": "stream",
          "text": [
            "looking\n",
            "VERB\n",
            "VBG / verb, gerund or present participle\n"
          ],
          "name": "stdout"
        }
      ]
    },
    {
      "cell_type": "code",
      "metadata": {
        "id": "2Yf2mNyrxe16",
        "colab_type": "code",
        "colab": {},
        "outputId": "d9f4fdf0-aba9-416e-e0ca-e8833a21d963"
      },
      "source": [
        "# Word Shapes:\n",
        "print(doc2[0].text+': '+doc2[0].shape_)\n",
        "print(doc[5].text+' : '+doc[5].shape_)"
      ],
      "execution_count": 0,
      "outputs": [
        {
          "output_type": "stream",
          "text": [
            "Tesla: Xxxxx\n",
            "U.S. : X.X.\n"
          ],
          "name": "stdout"
        }
      ]
    },
    {
      "cell_type": "code",
      "metadata": {
        "id": "TRuBZ2wxxe19",
        "colab_type": "code",
        "colab": {},
        "outputId": "395843cb-8f65-4838-fa95-3b73914cf254"
      },
      "source": [
        "# Boolean Values:\n",
        "print(doc2[0].is_alpha)\n",
        "print(doc2[0].is_stop)"
      ],
      "execution_count": 0,
      "outputs": [
        {
          "output_type": "stream",
          "text": [
            "True\n",
            "False\n"
          ],
          "name": "stdout"
        }
      ]
    },
    {
      "cell_type": "markdown",
      "metadata": {
        "id": "_peWSfAFxe2B",
        "colab_type": "text"
      },
      "source": [
        "___\n",
        "## Spans\n",
        "Large Doc objects can be hard to work with at times. A **span** is a slice of Doc object in the form `Doc[start:stop]`."
      ]
    },
    {
      "cell_type": "code",
      "metadata": {
        "id": "NFD6qeO3xe2C",
        "colab_type": "code",
        "colab": {
          "base_uri": "https://localhost:8080/",
          "height": 55
        },
        "outputId": "daebe9df-a4a7-4bdd-c877-56859f53bfdf"
      },
      "source": [
        "doc3 = nlp(u'Although commmonly attributed to John Lennon from his song \"Beautiful Boy\", \\\n",
        "the phrase \"Life is what happens to us while we are making other plans\" was written by \\\n",
        "cartoonist Allen Saunders and published in Reader\\'s Digest in 1957, when Lennon was 17.')\n",
        "print(doc3)"
      ],
      "execution_count": 10,
      "outputs": [
        {
          "output_type": "stream",
          "text": [
            "Although commmonly attributed to John Lennon from his song \"Beautiful Boy\", the phrase \"Life is what happens to us while we are making other plans\" was written by cartoonist Allen Saunders and published in Reader's Digest in 1957, when Lennon was 17.\n"
          ],
          "name": "stdout"
        }
      ]
    },
    {
      "cell_type": "code",
      "metadata": {
        "id": "bnIiZ90Wxe2H",
        "colab_type": "code",
        "colab": {},
        "outputId": "d746296b-8388-4009-ed36-739fbdb517a9"
      },
      "source": [
        "# notice again it isn't character based slicing like string slice.\n",
        "life_quote = doc3[16:30]\n",
        "print(life_quote)"
      ],
      "execution_count": 0,
      "outputs": [
        {
          "output_type": "stream",
          "text": [
            "\"Life is what happens to us while we are making other plans\"\n"
          ],
          "name": "stdout"
        }
      ]
    },
    {
      "cell_type": "code",
      "metadata": {
        "id": "X9L_wqgyxe2K",
        "colab_type": "code",
        "colab": {},
        "outputId": "4d3567f7-1abb-4ab7-a57e-df880cedbb7e"
      },
      "source": [
        "type(life_quote)"
      ],
      "execution_count": 0,
      "outputs": [
        {
          "output_type": "execute_result",
          "data": {
            "text/plain": [
              "spacy.tokens.span.Span"
            ]
          },
          "metadata": {
            "tags": []
          },
          "execution_count": 18
        }
      ]
    },
    {
      "cell_type": "markdown",
      "metadata": {
        "id": "nDw7kSf5xe2O",
        "colab_type": "text"
      },
      "source": [
        "___\n",
        "## Sentences\n"
      ]
    },
    {
      "cell_type": "code",
      "metadata": {
        "id": "zSHH1G-lxe2P",
        "colab_type": "code",
        "colab": {}
      },
      "source": [
        "doc4 = nlp(u'This is the first sentence. This is another sentence. This is the last sentence.')"
      ],
      "execution_count": 0,
      "outputs": []
    },
    {
      "cell_type": "code",
      "metadata": {
        "id": "bu3CJ1ufxe2S",
        "colab_type": "code",
        "colab": {
          "base_uri": "https://localhost:8080/",
          "height": 72
        },
        "outputId": "d8bb1f4e-581a-4c91-95c8-c7413c948278"
      },
      "source": [
        "# spacy is smart enough to understand sentences\n",
        "for sent in doc4.sents:\n",
        "    print(sent)"
      ],
      "execution_count": 13,
      "outputs": [
        {
          "output_type": "stream",
          "text": [
            "This is the first sentence.\n",
            "This is another sentence.\n",
            "This is the last sentence.\n"
          ],
          "name": "stdout"
        }
      ]
    },
    {
      "cell_type": "code",
      "metadata": {
        "id": "zHFmWH1txe2W",
        "colab_type": "code",
        "colab": {
          "base_uri": "https://localhost:8080/",
          "height": 35
        },
        "outputId": "943a743e-e34b-451e-d26d-cd6c8db5fc19"
      },
      "source": [
        "doc4[6].is_sent_start"
      ],
      "execution_count": 14,
      "outputs": [
        {
          "output_type": "execute_result",
          "data": {
            "text/plain": [
              "True"
            ]
          },
          "metadata": {
            "tags": []
          },
          "execution_count": 14
        }
      ]
    }
  ]
}